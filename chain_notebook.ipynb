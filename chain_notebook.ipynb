{
 "cells": [
  {
   "cell_type": "code",
   "execution_count": null,
   "metadata": {},
   "outputs": [],
   "source": [
    "\n",
    "llm = ChatGroq(\n",
    "    temperature=0,\n",
    "    timeout=None,\n",
    "    groq_api_key='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',\n",
    "    model_name=\"llama-3.1-70b-versatile\"\n",
    ")"
   ]
  },
  {
   "cell_type": "code",
   "execution_count": 7,
   "metadata": {},
   "outputs": [],
   "source": [
    "from llama_index.core import SimpleDirectoryReader\n",
    "\n",
    "reader = SimpleDirectoryReader(input_files=[\"cv.pdf\"])\n",
    "documents = reader.load_data()"
   ]
  },
  {
   "cell_type": "code",
   "execution_count": 10,
   "metadata": {},
   "outputs": [
    {
     "ename": "AttributeError",
     "evalue": "'list' object has no attribute 'get_data'",
     "output_type": "error",
     "traceback": [
      "\u001b[1;31m---------------------------------------------------------------------------\u001b[0m",
      "\u001b[1;31mAttributeError\u001b[0m                            Traceback (most recent call last)",
      "Cell \u001b[1;32mIn[10], line 1\u001b[0m\n\u001b[1;32m----> 1\u001b[0m data \u001b[38;5;241m=\u001b[39m \u001b[43mdocuments\u001b[49m\u001b[38;5;241;43m.\u001b[39;49m\u001b[43mget_data\u001b[49m()\n",
      "\u001b[1;31mAttributeError\u001b[0m: 'list' object has no attribute 'get_data'"
     ]
    }
   ],
   "source": [
    "data = documents.get_data()"
   ]
  },
  {
   "cell_type": "code",
   "execution_count": 11,
   "metadata": {},
   "outputs": [
    {
     "name": "stdout",
     "output_type": "stream",
     "text": [
      "anounman.app |015751635689 | ankushdas67824@gmail.c om\n",
      "EDUCATION\n",
      "UNIVERSITÄT DES\n",
      "SAARLANDES\n",
      "B-tech in Computer Science and\n",
      "Technology\n",
      "Ba tch o f 2024 |\n",
      "S aarbucken,Deu tschland\n",
      "A.C.INSTITUTION\n",
      "class XII ba tch o f 2022 | Mal da, India\n",
      "class X ba tch o f 2020 | Mal da, India\n",
      "LINKS\n",
      "Github:// anounman\n",
      "LinkedIn:// anounman\n",
      "Twitter:// anounman\n",
      "LANGUAGE\n",
      "Deutsch\n",
      "Full Professional Proficiency\n",
      "English\n",
      "Full Professional Proficiency\n",
      "Hindi\n",
      "Native orBilingual Proficiency\n",
      "INTERESTS\n",
      "Friction andnon-friction Books\n",
      "Cryptocurrency\n",
      "Cinematography\n",
      "SKILLS\n",
      "PROGRAMMING\n",
      "Language:\n",
      "Python •Dart •SQL •C•C++\n",
      "Technologies:\n",
      "Flutter •HTML •CSS •React.js\n",
      "•Node.js •Express.js •Mongo.Db\n",
      "•AWS EC2 •Linux •Firebase\n",
      "Familiar:\n",
      "Github •Figma •OpenCV\n",
      "•Django• Fast Api\n",
      "CERTIFICATES\n",
      "Website Hacking /Penetration T esting\n",
      "and Bug Bounty Hunting.\n",
      "Learn Python and Ethical Hacking From\n",
      "Scratch.\n",
      "District Student-Youth Science Fair 2017.\n",
      "District Student-Youth Science Fair 2018EXPERIENCE\n",
      "QUICK RESERVED GMBH | Flutter Developer\n",
      " \n",
      "Architecture principles.\n",
      "•Utilized GetX forefficient state management and integrated the Parser SDK for\n",
      "data fetching.\n",
      "•App Link:// Link\n",
      "•contact ://Link\n",
      "SWARAJYA | Junior Full Stack Developer\n",
      "Oct 2022 – Feb 2023| Bangal ore, India\n",
      "•Contributed tothe development ofanews application with audiobook features,\n",
      "following the MVVM architecture using Flutter.\n",
      "•Worked onbackend development using Node.js, FastAPI, and SQL databases.\n",
      "•App Link:// Link\n",
      "•contact ://Link\n",
      "OYEBUSY | Flutter Intern\n",
      "Ma y 2022 – Oct 2022| Remo te\n",
      "•Built aservice booking application using Flutter, incorporating GetX for state\n",
      "management and SQLite for local data storage.\n",
      "•Contributed toaplatform offering avariety ofservices, from salon\n",
      "appointments tohome cleaning and mechanical services.\n",
      "•App Link:// Link\n",
      "•contact ://Link\n",
      "PROJECTS\n",
      "RELATION\n",
      "A F ull S tack D a ting App\n",
      "•Developed acomprehensive dating app with Google Authentication, powered\n",
      "byaNode.js backend and MongoDB database.\n",
      "• Implemented asophisticated matchmaking algorithm and location-based\n",
      "filtering for personalized user experiences.\n",
      "•Focused onenhancing the user interface for aseamless and engaging\n",
      "interaction.\n",
      "•Github:// Relation\n",
      "FLUTTER ML GYM GUIDE\n",
      "A W ork ou t A ssis tance App\n",
      "• Created aFlutter-based app designed toassist users with at-home workouts,\n",
      "leveraging the Google ML Kit.\n",
      "•  Integrated real-time camera functionality tomonitor and correct workout form.\n",
      "•The app tracks the number ofreps completed and estimates calories burned,\n",
      "providing users with actionable fitness insights.\n",
      "•Github:// GYM GUIDE• Developed a table booking application using Flutter, employing CleanApril 2024 – Nov 2024 | Saarbrücken,  GermanyAnkush Das\n"
     ]
    }
   ],
   "source": [
    "for doc in documents:\n",
    "    print(doc.text)"
   ]
  },
  {
   "cell_type": "code",
   "execution_count": null,
   "metadata": {},
   "outputs": [],
   "source": []
  }
 ],
 "metadata": {
  "kernelspec": {
   "display_name": "venv",
   "language": "python",
   "name": "python3"
  },
  "language_info": {
   "codemirror_mode": {
    "name": "ipython",
    "version": 3
   },
   "file_extension": ".py",
   "mimetype": "text/x-python",
   "name": "python",
   "nbconvert_exporter": "python",
   "pygments_lexer": "ipython3",
   "version": "3.10.11"
  }
 },
 "nbformat": 4,
 "nbformat_minor": 2
}
